{
 "cells": [
  {
   "cell_type": "code",
   "execution_count": 1,
   "metadata": {},
   "outputs": [],
   "source": [
    "from Map import Map_Obj\n",
    "import math\n",
    "from collections import defaultdict"
   ]
  },
  {
   "cell_type": "code",
   "execution_count": 2,
   "metadata": {},
   "outputs": [],
   "source": [
    "map_obj = Map_Obj(task=1)"
   ]
  },
  {
   "cell_type": "code",
   "execution_count": 5,
   "metadata": {},
   "outputs": [
    {
     "name": "stdout",
     "output_type": "stream",
     "text": [
      "start [28, 32]\n",
      "goal [6, 32]\n",
      "value of start 1\n",
      "value of 0,0 -1\n"
     ]
    }
   ],
   "source": [
    "print('start',map_obj.start_pos)\n",
    "print('goal',map_obj.goal_pos)\n",
    "print('value of start',map_obj.get_cell_value(map_obj.start_pos))\n",
    "print('value of 0,0',map_obj.get_cell_value([0,0]))"
   ]
  },
  {
   "cell_type": "code",
   "execution_count": 6,
   "metadata": {},
   "outputs": [],
   "source": [
    "def euclidean_dist(a, b):\n",
    "    return math.sqrt((b[0] - a[0])**2 + (b[1] - a[1])**2)"
   ]
  },
  {
   "cell_type": "code",
   "execution_count": 7,
   "metadata": {},
   "outputs": [
    {
     "data": {
      "text/plain": [
       "22.0"
      ]
     },
     "execution_count": 7,
     "metadata": {},
     "output_type": "execute_result"
    }
   ],
   "source": [
    "# test of euclidean distance function\n",
    "euclidean_dist(map_obj.start_pos, map_obj.goal_pos)"
   ]
  },
  {
   "cell_type": "code",
   "execution_count": 8,
   "metadata": {},
   "outputs": [],
   "source": [
    "def around(coords):\n",
    "    return [tuple([coords[0]+1,coords[1]]),tuple([coords[0]-1,coords[1]]),tuple([coords[0],coords[1]+1]),tuple([coords[0],coords[1]-1])]"
   ]
  },
  {
   "cell_type": "code",
   "execution_count": 9,
   "metadata": {},
   "outputs": [
    {
     "data": {
      "text/plain": [
       "[(29, 32), (27, 32), (28, 33), (28, 31)]"
      ]
     },
     "execution_count": 9,
     "metadata": {},
     "output_type": "execute_result"
    }
   ],
   "source": [
    "# test of around fcuntion\n",
    "around(map_obj.start_pos)"
   ]
  },
  {
   "cell_type": "code",
   "execution_count": 10,
   "metadata": {},
   "outputs": [],
   "source": [
    "def def_value():\n",
    "    return float('inf')"
   ]
  },
  {
   "cell_type": "code",
   "execution_count": 11,
   "metadata": {},
   "outputs": [],
   "source": [
    "def d(current, neighbor):\n",
    "    if map_obj.get_cell_value(neighbor) == -1:\n",
    "        return float('inf')\n",
    "    else:\n",
    "        return map_obj.get_cell_value(neighbor)"
   ]
  },
  {
   "cell_type": "code",
   "execution_count": 12,
   "metadata": {},
   "outputs": [],
   "source": [
    "def reconstruct_path(cameFrom, current):\n",
    "    total_path = [current]\n",
    "    while current in cameFrom.keys():\n",
    "        current = cameFrom[current]\n",
    "        total_path.insert(0, current)\n",
    "    return total_path\n",
    "\n",
    "# A* finds a path from start to goal.\n",
    "# h is the heuristic function. h(n) estimates the cost to reach goal from node n.\n",
    "def A_Star(start, goal, h):\n",
    "    counter = 0\n",
    "    start = tuple(start)\n",
    "    goal = tuple(goal)\n",
    "    # The set of discovered nodes that may need to be (re-)expanded.\n",
    "    # Initially, only the start node is known.\n",
    "    # This is usually implemented as a min-heap or priority queue rather than a hash-set.\n",
    "    openSet = [start]\n",
    "\n",
    "    # For node n, cameFrom[n] is the node immediately preceding it on the cheapest path from start\n",
    "    # to n currently known.\n",
    "    cameFrom = {}\n",
    "\n",
    "    # For node n, gScore[n] is the cost of the cheapest path from start to n currently known.\n",
    "    gScore = defaultdict(def_value) # map with default value of Infinity\n",
    "    gScore[start] = 0\n",
    "\n",
    "    # For node n, fScore[n] := gScore[n] + h(n). fScore[n] represents our current best guess as to\n",
    "    # how cheap a path could be from start to finish if it goes through n.\n",
    "    fScore = defaultdict(def_value) # map with default value of Infinity\n",
    "    fScore[start] = h(start, goal)\n",
    "\n",
    "    while len(openSet) > 0:\n",
    "        counter += 1\n",
    "        # save mapfiles for each explore step\n",
    "        # for coor in gScore.keys():\n",
    "        #     map_obj.set_cell_value(coor,' £ ')\n",
    "        # map_obj.save_map('pictures/a'+str(counter)+'.png')\n",
    "        \n",
    "        # This operation can occur in O(Log(N)) time if openSet is a min-heap or a priority queue\n",
    "        # Get the fscore of the coordinates in openSet in their order\n",
    "        tempValues = [fScore[k] for k in openSet]\n",
    "        current = openSet[tempValues.index(min(tempValues))] # the node in openSet having the lowest fScore[] value\n",
    "        if current == goal:\n",
    "            return reconstruct_path(cameFrom, current), openSet, cameFrom, gScore, fScore\n",
    "\n",
    "        openSet.remove(current)\n",
    "        for neighbor in around(current): #each neighbor of current:\n",
    "            # d(current,neighbor) is the weight of the edge from current to neighbor\n",
    "            # tentative_gScore is the distance from start to the neighbor through current\n",
    "            tentative_gScore = gScore[current] + d(current, neighbor)\n",
    "            if tentative_gScore < gScore[neighbor]:\n",
    "                # This path to neighbor is better than any previous one. Record it!\n",
    "                cameFrom[neighbor] = current\n",
    "                gScore[neighbor] = tentative_gScore\n",
    "                fScore[neighbor] = tentative_gScore + h(neighbor, goal)\n",
    "                if neighbor not in openSet:\n",
    "                    openSet.append(neighbor)\n",
    "\n",
    "    # Open set is empty but goal was never reached\n",
    "    return 'Not reached'"
   ]
  },
  {
   "cell_type": "code",
   "execution_count": 13,
   "metadata": {},
   "outputs": [],
   "source": [
    "path, openSet, cameFrom, gScore, fScore = A_Star(map_obj.start_pos, map_obj.goal_pos, euclidean_dist)\n",
    "middle_path = path[1:-1]"
   ]
  },
  {
   "cell_type": "code",
   "execution_count": 14,
   "metadata": {},
   "outputs": [],
   "source": [
    "# search\n",
    "for coor in gScore.keys():\n",
    "    map_obj.set_cell_value(coor,' £ ')\n",
    "# path\n",
    "for coor in middle_path:\n",
    "    map_obj.set_cell_value(coor,' € ')"
   ]
  },
  {
   "cell_type": "code",
   "execution_count": 15,
   "metadata": {},
   "outputs": [],
   "source": [
    "map_obj.show_map()"
   ]
  }
 ],
 "metadata": {
  "kernelspec": {
   "display_name": "Python 3.10.2 64-bit",
   "language": "python",
   "name": "python3"
  },
  "language_info": {
   "codemirror_mode": {
    "name": "ipython",
    "version": 3
   },
   "file_extension": ".py",
   "mimetype": "text/x-python",
   "name": "python",
   "nbconvert_exporter": "python",
   "pygments_lexer": "ipython3",
   "version": "3.10.2"
  },
  "orig_nbformat": 4,
  "vscode": {
   "interpreter": {
    "hash": "614885ed84319dd945e70037a4de64a6bf09168fbf7c0896a842c1e0ba973a19"
   }
  }
 },
 "nbformat": 4,
 "nbformat_minor": 2
}
